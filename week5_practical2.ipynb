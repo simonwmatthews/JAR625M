{
 "cells": [
  {
   "cell_type": "markdown",
   "metadata": {},
   "source": [
    "# Determining whether chemical reactions are favourable\n",
    "*Simon Matthews (simonm@hi.is)*\n",
    "\n",
    "**IMPORTANT**\n",
    "\n",
    "The notebook will not save your results! I suggest opening a Word document and copy-pasting your results into there!"
   ]
  },
  {
   "cell_type": "markdown",
   "metadata": {},
   "source": [
    "## Coding preliminaries\n",
    "\n",
    "First we will bring in some useful code for the exercise:"
   ]
  },
  {
   "cell_type": "code",
   "execution_count": null,
   "metadata": {},
   "outputs": [],
   "source": [
    "from thermoengine import model\n",
    "import numpy as np\n",
    "import matplotlib.pyplot as plt\n",
    "import pandas as pd\n",
    "import pprint"
   ]
  },
  {
   "cell_type": "markdown",
   "metadata": {},
   "source": [
    "Here I have written some functions which will help with the exercise. You can ignore this part of the notebook if you like."
   ]
  },
  {
   "cell_type": "code",
   "execution_count": null,
   "metadata": {},
   "outputs": [],
   "source": [
    "def check_reaction_is_balanced(phase_dict):\n",
    "    totalmass = np.zeros((1,107))\n",
    "    for ph in phase_dict:\n",
    "        if ph in phobj:\n",
    "            totalmass += phase_dict[ph] * phobj[ph].props['element_comp']\n",
    "        else:\n",
    "            raise AttributeError(\"The mineral wasn't recognised. Check it is spelled correctly.\")\n",
    "    \n",
    "    if np.any(totalmass != 0):\n",
    "        return False\n",
    "    else:\n",
    "        return True\n",
    "\n",
    "def pick_a_reaction():\n",
    "    reactions = pd.read_csv('W5P2_reactions.csv')\n",
    "    row_rand = reactions.sample()\n",
    "\n",
    "    print(row_rand['Reaction'].iloc[0])\n",
    "    print(\"\")\n",
    "    description = row_rand['Information'].iloc[0]\n",
    "    fmt = pprint.pformat(description)\n",
    "    fmt = fmt.replace(\"'\",\"\")\n",
    "    fmt = fmt[1:]\n",
    "    fmt = fmt[:-1]\n",
    "    print(fmt)\n",
    "\n",
    "def make_DGr_grid(phases_in_reaction, Pmin=0.1, Pmax=30000, Tmin=0, Tmax=2000, nP=100, nT=100, seefullcolorbar=False):\n",
    "\n",
    "    if not check_reaction_is_balanced(phases_in_reaction):\n",
    "        raise AttributeError(\"Your reaction is not balanced!\")\n",
    "        \n",
    "    p = np.linspace(Pmin, Pmax, nP)\n",
    "    t = np.linspace(Tmin, Tmax, nT)\n",
    "\n",
    "    tt, pp = np.meshgrid(t, p)\n",
    "\n",
    "    dGr = np.zeros(np.shape(pp))\n",
    "\n",
    "    for i in range(np.shape(pp)[0]):\n",
    "        for j in range(np.shape(pp)[1]):\n",
    "            for ph in phases_in_reaction:\n",
    "                dGr[i, j] += phobj[ph].gibbs_energy(tt[i,j] + 273.15, pp[i,j]) * phases_in_reaction[ph]\n",
    "    \n",
    "    if np.any(dGr < 0):\n",
    "        mostneg = np.min(dGr)\n",
    "    else:\n",
    "        mostneg = 0\n",
    "    \n",
    "    if np.any(dGr > 0):\n",
    "        mostpos = np.max(dGr)\n",
    "    else:\n",
    "        mostpos = 0\n",
    "    \n",
    "    cscale_ends = 0.0\n",
    "    if - mostneg > mostpos:\n",
    "        cscale_ends = - mostneg / 1000\n",
    "    else:\n",
    "        cscale_ends = mostpos / 1000\n",
    "    \n",
    "    f, a = plt.subplots()\n",
    "\n",
    "    cf = a.contourf(tt, pp/1000, dGr/1000, vmin=-cscale_ends, vmax=cscale_ends, cmap=plt.cm.seismic)\n",
    "\n",
    "    a.set_xlim(a.get_xlim())\n",
    "    a.set_ylim(a.get_ylim())\n",
    "\n",
    "    if seefullcolorbar is True:\n",
    "        cf = a.scatter([a.get_xlim()[0] - 10]*2, [a.get_ylim()[0] - 10]*2, c=[-cscale_ends, cscale_ends], vmin=-cscale_ends, vmax=cscale_ends, cmap=plt.cm.seismic)\n",
    "\n",
    "    a.set_xlabel('Temperature (˚C)')\n",
    "    a.set_ylabel('Pressure (kbar)')\n",
    "\n",
    "    cbar = f.colorbar(cf)\n",
    "    cbar.set_label(r'$\\Delta G_r$ (kJ mol$^{-1}$)')\n",
    "\n",
    "    reactionstr = ''\n",
    "    for ph in phases_in_reaction:\n",
    "        if phases_in_reaction[ph] < 0:\n",
    "            if len(reactionstr) > 0:\n",
    "                reactionstr += '+ '\n",
    "            reactionstr += '{0} {1} '.format(-phases_in_reaction[ph], phobj[ph].props['formula'][0])\n",
    "    reactionstr += '= '\n",
    "    for ph in phases_in_reaction:\n",
    "        if phases_in_reaction[ph] > 0:\n",
    "            if reactionstr[-2:] != '= ':\n",
    "                reactionstr += '+ '\n",
    "            reactionstr += '{0} {1} '.format(phases_in_reaction[ph], phobj[ph].props['formula'][0])\n",
    "    \n",
    "    a.set_title(reactionstr)\n",
    "\n",
    "    plt.show()\n"
   ]
  },
  {
   "cell_type": "markdown",
   "metadata": {},
   "source": [
    "Access the properties for all the minerals we might be interested in today:"
   ]
  },
  {
   "cell_type": "code",
   "execution_count": null,
   "metadata": {},
   "outputs": [],
   "source": [
    "db = model.Database()\n",
    "\n",
    "phobj = {'forsterite':  db.get_phase('Fo'),\n",
    "         'fayalite':    db.get_phase('Fa'),\n",
    "         'quartz':      db.get_phase('Qz'),\n",
    "         'enstatite':   db.get_phase('En'),\n",
    "         'ferrosilite': db.get_phase('Fs'),\n",
    "         'muscovite':   db.get_phase('Ms'),\n",
    "         'sillimanite': db.get_phase('Sil'),\n",
    "         'kyanite':     db.get_phase('Ky'),\n",
    "         'andalusite':  db.get_phase('And'),\n",
    "         'K-feldspar':  db.get_phase('Or'),\n",
    "         'H2O':         db.get_phase('H2O'),\n",
    "         'pyrope':      db.get_phase('Prp'),\n",
    "         'almandine':   db.get_phase('Alm'),\n",
    "         'spinel':      db.get_phase('Spl'),\n",
    "         'magnetite':   db.get_phase('Mag'),\n",
    "         'diopside':    db.get_phase('Di'),\n",
    "         'anorthite':   db.get_phase('An'),\n",
    "         'antigorite':  db.get_phase('Atg'),\n",
    "         'tremolite':   db.get_phase('Tr'),\n",
    "         'hydrogen':    db.get_phase('H2'),\n",
    "         'oxygen':      db.get_phase('O2'),\n",
    "         'hematite':    db.get_phase('Hem'),\n",
    "         'nepheline':   db.get_phase('Nph'),\n",
    "         'albite':      db.get_phase('Ab'),\n",
    "         'corundum':    db.get_phase('Crn'),\n",
    "         'tridymite':   db.get_phase('Trd'),\n",
    "         'coesite':     db.get_phase('Coe')}"
   ]
  },
  {
   "cell_type": "markdown",
   "metadata": {},
   "source": [
    "## The minerals and their formulae\n",
    "It is important you balance the equations using the formulae given here, otherwise the molar thermodynamic properties will be incorrect"
   ]
  },
  {
   "cell_type": "code",
   "execution_count": null,
   "metadata": {},
   "outputs": [],
   "source": [
    "print('The minerals available and their formulae:')\n",
    "for ph in phobj:\n",
    "    print('{0: <15} {1}'.format(ph, phobj[ph].props['formula'][0]))"
   ]
  },
  {
   "cell_type": "code",
   "execution_count": null,
   "metadata": {},
   "outputs": [],
   "source": [
    "pick_a_reaction()"
   ]
  },
  {
   "cell_type": "markdown",
   "metadata": {},
   "source": [
    "## Balance the reaction\n",
    "It might be easier to do this on paper, then transfer it to the computer. Reactants should have negative numbers (per mole), and products should have positive numbers (per mole).\n",
    "\n",
    "1. Find the mineral formulae you need from the list above\n",
    "2. Balance it (set the number of moles of each reactant and product)\n",
    "3. Check that you have balanced it correctly\n",
    "\n",
    "The example corresponds to:\n",
    "\n",
    "1 Mg$_2$SiO$_4$ + 1 SiO$_2$ → 2 MgSiO$_3$"
   ]
  },
  {
   "cell_type": "markdown",
   "metadata": {},
   "source": [
    "## Pick a reaction\n",
    "\n",
    "Running this cell will pick a reaction for you to model:"
   ]
  },
  {
   "cell_type": "code",
   "execution_count": null,
   "metadata": {},
   "outputs": [],
   "source": [
    "phases_in_reaction = {\n",
    "                      'forsterite': -1,\n",
    "                      'enstatite': 2,\n",
    "                      'quartz': -1\n",
    "                      }"
   ]
  },
  {
   "cell_type": "markdown",
   "metadata": {},
   "source": [
    "This cell will check if it is balanced. If it returns `True` then it *is* balanced. If it returns `False` you need to double check your reaction."
   ]
  },
  {
   "cell_type": "code",
   "execution_count": null,
   "metadata": {},
   "outputs": [],
   "source": [
    "check_reaction_is_balanced(phases_in_reaction)"
   ]
  },
  {
   "cell_type": "markdown",
   "metadata": {},
   "source": [
    "## Calculate the $\\Delta G_r$"
   ]
  },
  {
   "cell_type": "code",
   "execution_count": null,
   "metadata": {},
   "outputs": [],
   "source": [
    "make_DGr_grid(phases_in_reaction)"
   ]
  },
  {
   "cell_type": "markdown",
   "metadata": {},
   "source": [
    "## Why is the reaction favourable or unfavourable?\n",
    "\n",
    "You could try calculating volumes, enthalpies and entropies for the phases at particular pressures and temperatures to better understand why the reaction is favourable or unfavourable:"
   ]
  },
  {
   "cell_type": "code",
   "execution_count": null,
   "metadata": {},
   "outputs": [],
   "source": [
    "phobj['forsterite'].entropy(\n",
    "                            100 + 273.15, # Temperature in K\n",
    "                            1000          # Pressure in bar\n",
    "                            )"
   ]
  },
  {
   "cell_type": "code",
   "execution_count": null,
   "metadata": {},
   "outputs": [],
   "source": [
    "phobj['forsterite'].volume(\n",
    "                           100 + 273.15, # Temperature in K\n",
    "                           1000          # Pressure in bar\n",
    "                           )"
   ]
  },
  {
   "cell_type": "code",
   "execution_count": null,
   "metadata": {},
   "outputs": [],
   "source": [
    "phobj['forsterite'].enthalpy(\n",
    "                             100 + 273.15, # Temperature in K\n",
    "                             1000          # Pressure in bar\n",
    "                             )"
   ]
  },
  {
   "cell_type": "code",
   "execution_count": null,
   "metadata": {},
   "outputs": [],
   "source": []
  }
 ],
 "metadata": {
  "kernelspec": {
   "display_name": "base",
   "language": "python",
   "name": "python3"
  },
  "language_info": {
   "codemirror_mode": {
    "name": "ipython",
    "version": 3
   },
   "file_extension": ".py",
   "mimetype": "text/x-python",
   "name": "python",
   "nbconvert_exporter": "python",
   "pygments_lexer": "ipython3",
   "version": "3.9.13"
  }
 },
 "nbformat": 4,
 "nbformat_minor": 2
}

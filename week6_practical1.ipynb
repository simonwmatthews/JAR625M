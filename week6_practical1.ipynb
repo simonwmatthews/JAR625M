{
 "cells": [
  {
   "cell_type": "markdown",
   "metadata": {},
   "source": [
    "# The GASP Geobarometer\n",
    "**JAR625M - Week 6 - Practical 1**\n",
    "\n",
    "*Simon Matthews (simonm@hi.is)*"
   ]
  },
  {
   "cell_type": "markdown",
   "metadata": {},
   "source": [
    "First, we need to import the necessary python libraries:"
   ]
  },
  {
   "cell_type": "code",
   "execution_count": null,
   "metadata": {},
   "outputs": [],
   "source": [
    "from thermoengine import model\n",
    "import numpy as np\n",
    "import matplotlib.pyplot as plt"
   ]
  },
  {
   "cell_type": "markdown",
   "metadata": {},
   "source": [
    "Now we need to extract the properties of the endmember components and the solid solutions:"
   ]
  },
  {
   "cell_type": "code",
   "execution_count": null,
   "metadata": {},
   "outputs": [],
   "source": [
    "db = model.Database()"
   ]
  },
  {
   "cell_type": "code",
   "execution_count": null,
   "metadata": {},
   "outputs": [],
   "source": [
    "# Solid Solutions:\n",
    "garnet = db.get_phase('Grt')\n",
    "feldspar = db.get_phase('Fsp')\n",
    "\n",
    "# Pure endmembers:\n",
    "grossular = db.get_phase('Grs')\n",
    "kyanite = db.get_phase('Ky')\n",
    "sillimanite = db.get_phase('Sil')\n",
    "andalusite = db.get_phase('And')\n",
    "anorthite = db.get_phase('An')\n",
    "quartz = db.get_phase('Qz')\n"
   ]
  },
  {
   "cell_type": "markdown",
   "metadata": {},
   "source": [
    "## Step 1: Calculate P,T-lines for particular logK values\n",
    "\n",
    "The chemical reaction for the GASP geobarometer is:\n",
    "\n",
    "Grossular (garnet) + Aluminosilicate + Quartz = Anorthite (Plagioclase)\n",
    "\n",
    "Ca$_3$Al$_2$Si$_3$O$_{12}$ + 2 Al$_2$SiO$_5$ + SiO$_2$ = 3 CaAl$_2$Si$_2$O$_8$\n",
    "\n",
    "At Equilibrium:\n",
    "\n",
    "$\\Delta G_r(P,T) = - R T \\ln(K) $\n",
    "\n",
    "If the phases are all pure endmembers then $K=1$ and $\\ln(K) = 0$, so $\\Delta G_r = 0$.\n",
    "\n",
    "For impure minerals, i.e., solid solutions, $K \\neq 1$, so $\\Delta G_r \\neq 0$, but we can calculate $K$ from $\\Delta G_r(P,T)$ using:\n",
    "\n",
    "$ K = \\exp\\left(- \\frac{\\Delta G_r(P,T)}{RT}\\right) $\n",
    "\n",
    "If we have a grid of $\\Delta G_r$ values, like you created in the practical last week, then we can map out values for $K$ across P-T space\n",
    "\n",
    "Here we can define a function to calculate $\\Delta G_r$:"
   ]
  },
  {
   "cell_type": "code",
   "execution_count": null,
   "metadata": {},
   "outputs": [],
   "source": [
    "def calc_GASP_DGr(T, P):\n",
    "\n",
    "    # First, find which Al2SiO5 polymorph is stable:\n",
    "    G_kyanite = kyanite.gibbs_energy(T, P)\n",
    "    G_sillimanite = sillimanite.gibbs_energy(T, P)\n",
    "    G_andalusite = andalusite.gibbs_energy(T, P)\n",
    "\n",
    "    # Find the minimum Al2SiO5 Gibbs energy:\n",
    "    G_AlSi = np.nanmin(np.array([G_kyanite, G_sillimanite, G_andalusite]))\n",
    "\n",
    "    DGr = (\n",
    "        3 * anorthite.gibbs_energy(T, P)\n",
    "        - quartz.gibbs_energy(T, P)\n",
    "        - 2 * G_AlSi\n",
    "        - grossular.gibbs_energy(T, P)\n",
    "    )\n",
    "\n",
    "    return DGr"
   ]
  },
  {
   "cell_type": "markdown",
   "metadata": {},
   "source": [
    "Now we will run this across a pressure and temperature grid:"
   ]
  },
  {
   "cell_type": "code",
   "execution_count": null,
   "metadata": {},
   "outputs": [],
   "source": [
    "p = np.linspace(\n",
    "    1, # Start pressure (bars)\n",
    "    20000, # End pressure (bars)\n",
    "    100 # Number of pressures to calculate\n",
    ")\n",
    "\n",
    "t = np.linspace(\n",
    "    100 + 273.15, # Start temperature (K)\n",
    "    1200 + 273.15, # End temperature (K)\n",
    "    100 # Number of temperatures to calculate\n",
    ")\n",
    "\n",
    "# Turn this into a grid:\n",
    "tt, pp = np.meshgrid(t, p)\n",
    "\n",
    "# Create something to store the results:\n",
    "DGr_grid = np.zeros(np.shape(tt))\n",
    "\n",
    "# Iterate through each P,T point:\n",
    "for i in range(np.shape(tt)[0]):\n",
    "    for j in range(np.shape(tt)[1]):\n",
    "        DGr_grid[i,j] = calc_GASP_DGr(tt[i,j], pp[i,j])\n",
    "\n"
   ]
  },
  {
   "cell_type": "markdown",
   "metadata": {},
   "source": [
    "We can make a plot similar to the ones you made last week:"
   ]
  },
  {
   "cell_type": "code",
   "execution_count": null,
   "metadata": {},
   "outputs": [],
   "source": [
    "f, a = plt.subplots()\n",
    "\n",
    "cf = a.contourf(tt - 273.15, pp / 1000, DGr_grid/1000, vmin=-150, vmax=150, cmap=plt.cm.seismic, levels=1001)\n",
    "\n",
    "cbar = f.colorbar(cf)\n",
    "\n",
    "cbar.set_label(r'$\\Delta G_r$ (kJ mol$^{-1}$)')\n",
    "\n",
    "a.set_xlabel('Temperature (˚C)')\n",
    "a.set_ylabel('Pressure (kbar)')\n",
    "\n",
    "\n",
    "plt.show()"
   ]
  },
  {
   "cell_type": "markdown",
   "metadata": {},
   "source": [
    "The white line marks the point where the reaction between pure endmembers goes from favourable to unfavourable. It is also defines the set of pressures and temperatures where the pure products AND pure reactants can exist together in the rock."
   ]
  },
  {
   "cell_type": "markdown",
   "metadata": {},
   "source": [
    "Convert the $\\Delta G_r$ grid into the equilibrium constant K:"
   ]
  },
  {
   "cell_type": "code",
   "execution_count": null,
   "metadata": {},
   "outputs": [],
   "source": [
    "K_grid = np.exp( - DGr_grid / 8.3141 / tt )"
   ]
  },
  {
   "cell_type": "markdown",
   "metadata": {},
   "source": [
    "We can have python find lines of constant value of the equilibrium constant. To start with we can look at the case of $K=1$:"
   ]
  },
  {
   "cell_type": "code",
   "execution_count": null,
   "metadata": {},
   "outputs": [],
   "source": [
    "# Tell the code which values of K to plot lines for:\n",
    "K_contours = [1]\n",
    "\n",
    "f, a = plt.subplots()\n",
    "\n",
    "cf = a.contourf(tt - 273.15, pp / 1000, DGr_grid/1000, vmin=-150, vmax=150, cmap=plt.cm.seismic, levels=1001)\n",
    "\n",
    "a.contour(tt - 273.15, pp / 1000, K_grid, levels=K_contours, colors='k')\n",
    "\n",
    "\n",
    "cbar = f.colorbar(cf)\n",
    "\n",
    "cbar.set_label(r'$\\Delta G_r$ (kJ mol$^{-1}$)')\n",
    "\n",
    "a.set_xlabel('Temperature (˚C)')\n",
    "a.set_ylabel('Pressure (kbar)')\n",
    "\n",
    "\n",
    "plt.show()"
   ]
  },
  {
   "cell_type": "markdown",
   "metadata": {},
   "source": [
    "The expression for the equilibrium constant is:\n",
    "\n",
    "$ K = \\frac{a_\\textrm{grossular}^\\textrm{garnet} (a_\\textrm{kyanite})^2 a_\\textrm{quartz}}{(a_\\textrm{anorthite}^\\textrm{plagioclase})^3} $\n",
    "\n",
    "Since kyanite and quartz are pure phases their activities are always 1, so it simplifies to:\n",
    "\n",
    "$ K = \\frac{a_\\textrm{grossular}^\\textrm{garnet}}{(a_\\textrm{anorthite}^\\textrm{plagioclase})^3} $\n",
    "\n",
    "But if the endmembers are also pure, then both the top and bottom of the fraction will be 1, so $K=1$, $\\ln(K) = 0$ and $\\Delta G_r = 0$, so it falls at exactly the point the reaction changed from favourable to unfavourable.\n",
    "\n",
    "A more interesting case is when the endmembers are not pure! We can plot lines that correspond to different values of K:\n"
   ]
  },
  {
   "cell_type": "code",
   "execution_count": null,
   "metadata": {},
   "outputs": [],
   "source": [
    "# Tell the code which values of K to plot lines for:\n",
    "K_contours = [ 0.001, 0.01, 0.1, 1, 10, 100, 1000]\n",
    "\n",
    "f, a = plt.subplots()\n",
    "\n",
    "\n",
    "cs = a.contour(tt - 273.15, pp / 1000, K_grid, levels=K_contours, colors='k',)\n",
    "\n",
    "a.clabel(cs, fmt=\"K = %.3f\")\n",
    "\n",
    "a.set_xlabel('Temperature (˚C)')\n",
    "a.set_ylabel('Pressure (kbar)')\n",
    "\n",
    "\n",
    "plt.show()"
   ]
  },
  {
   "cell_type": "markdown",
   "metadata": {},
   "source": [
    "## Part 2: Calculate activities and K values"
   ]
  },
  {
   "cell_type": "markdown",
   "metadata": {},
   "source": [
    "The `garnet` object has an activity model built in, which we need in order to convert mole fractions into activities. We can get a feeling for how much of a difference this will make by making a plot of mole fraction vs activity. Here we will allow the garnet composition to vary between 100% almandine and 100% grossular:"
   ]
  },
  {
   "cell_type": "code",
   "execution_count": null,
   "metadata": {},
   "outputs": [],
   "source": [
    "xgr = np.linspace(0, 1, 100)\n",
    "xal = 1-xgr\n",
    "agr = np.zeros(np.shape(xgr))\n",
    "aal = np.zeros(np.shape(xgr))\n",
    "\n",
    "t = 1200+273.15\n",
    "p = 5000.0\n",
    "\n",
    "for i in range(len(xgr)):\n",
    "    [[aal[i], agr[i], _x]] = garnet.activity(t, p, mol=np.array([xal[i], xgr[i], 0]))\n",
    "\n",
    "f, a = plt.subplots()\n",
    "\n",
    "a.plot(xgr, agr, label='grossular')\n",
    "a.plot(xgr, aal, label='almandine')\n",
    "\n",
    "a.plot([0,1], [0,1], c='k', ls='--', lw=1)\n",
    "a.plot([0,1], [1,0], c='k', ls='--', lw=1)\n",
    "\n",
    "a.set_xlim(0,1)\n",
    "a.set_ylim(0,1)\n",
    "\n",
    "a.legend()\n",
    "\n",
    "a.set_xlabel('Mole fraction of grossular in garnet')\n",
    "a.set_ylabel('Activity of almandine or grossular')\n",
    "\n",
    "\n",
    "plt.show()\n"
   ]
  },
  {
   "cell_type": "markdown",
   "metadata": {},
   "source": [
    "You can see that calculating activities (rather than just assuming ideal mixing) will make a big difference to the results\n",
    "\n",
    "You can play around with this by changing the pressure, temperature, and the mole fractions of almandine, grossular, and pyrope here:"
   ]
  },
  {
   "cell_type": "code",
   "execution_count": null,
   "metadata": {},
   "outputs": [],
   "source": [
    "\n",
    "act = garnet.activity(\n",
    "            1000 + 273.15, # Temperature (K)\n",
    "            10000, # Pressure (bar)\n",
    "            mol = np.array([\n",
    "                0.3, # Almandine\n",
    "                0.2, # Grossular\n",
    "                0.5 # Pyrope\n",
    "                ])\n",
    "        )\n",
    "\n",
    "enames = garnet.endmember_names\n",
    "\n",
    "print(\"Activities of endmembers:\")\n",
    "\n",
    "for i in range(3):\n",
    "    print(\"{0: <10}: {1:.4f} \".format(enames[i], act[0][i]))\n"
   ]
  },
  {
   "cell_type": "markdown",
   "metadata": {},
   "source": [
    "In a gneiss containing an assemblage of quartz + plagioclase + alkali feldspar + garnet + biotite + kyanite + sillimanite + other accessory phases, there are zoned garnet and feldspar crystals. Below you are given the compositions measured in the both the cores and rims of the crystals.\n",
    "\n",
    "| Oxide (wt%) | Garnet Core | Garnet Rim |\n",
    "| ----------- | ----------- | ---------- |\n",
    "| SiO~2~ | 37.9 | 37.4 |\n",
    "| Al~2~O~3~ | 21.6 | 21.5 |\n",
    "| FeO | 30.7 | 33.2 |\n",
    "| MnO | 1.6 | 1.9 |\n",
    "| MgO | 3.6 | 3.7 |\n",
    "| CaO | 5.2 | 1.9 |\n",
    "\n",
    "and...\n",
    "\n",
    "| Oxide (wt%) | Plag Core | Plag Rim |\n",
    "| ----------- | --------- | -------- |\n",
    "| SiO~2~ | 59.4 | 58.8 |\n",
    "| Al~2~O~3~ | 25.1 | 25.8 |\n",
    "| Fe~2~O~3~ | 0.0 | 0.1 |\n",
    "| CaO | 7.1 | 7.1 |\n",
    "| Na~2~O | 7.6 | 7.4 |\n",
    "| K~2~O | 0.2 | 0.5 |\n",
    "\n",
    "You will estimate their pressure of formation by calculating the equilibrium constant for:\n",
    "1. The garnet core - feldspar core\n",
    "2. The garnet rim - feldspar rim\n",
    "\n",
    "The first step towards calculating the activities of grossular and anorthite is to convert these compositions into moles of elements:\n",
    "1. Divide the oxide wt% by the molecular mass of the oxide, e.g., for garnet core SiO2: 37.9 / 60.08 = 0.631\n",
    "2. Multiply this number by the number of moles of the element in the oxide formula. SiO2 has 1 mole of Si, so 0.631 * 1 = 0.631\n",
    "3. Repeat for each oxide (you do not need to calculate the moles of oxygen)\n",
    "\n",
    "\n",
    "You can do this by hand, using excel, or in this notebook using python"
   ]
  },
  {
   "cell_type": "code",
   "execution_count": null,
   "metadata": {},
   "outputs": [],
   "source": [
    "# Your code here?"
   ]
  },
  {
   "cell_type": "markdown",
   "metadata": {},
   "source": [
    "You now need to convert the moles of elements into mole fractions of each solid solution endmember. For garnet you need mole fractions of almandine, pyrope, and grossular. For feldspar you need mole fractions of anorthite, albite and K-feldspar.\n",
    "1. Find the formula for the endmember. E.g., grossular is Ca~3~Al~2~Si~3~O~12~.\n",
    "2. There are 3 moles of Ca in the grossular formula. If you have 0.3 moles of Ca, this will give 0.1 moles of grossular. Why not use Al or Si? Because there is Al and Si in each of the garnet endmembers.\n",
    "3. Repeat for each endmember.\n",
    "4. Add up the moles of each endmember you calculated (e.g., 0.1 grossular + 0.2 almandine + 0.15 pyrope = 0.45)\n",
    "5. Divide each endmember by the total, e.g., for grossular 0.1 / 0.45 = 0.22. \n",
    "6. They should now all add up to 1. Check to make sure they do!\n",
    "\n",
    "You can do this in the notebook, on paper, or in Excel."
   ]
  },
  {
   "cell_type": "code",
   "execution_count": null,
   "metadata": {},
   "outputs": [],
   "source": [
    "# Your code here?"
   ]
  },
  {
   "cell_type": "markdown",
   "metadata": {},
   "source": [
    "You should now have moles of endmembers for both garnet and feldspar in the rims and cores.\n",
    "\n",
    "The next step is to convert them into activities. The activity depends on the temperature and pressure. A thermometer applied to the rocks has given a temperature of 500˚C. We don't know the pressure yet, but you can assume a value of 10 kbar (it is not very sensitive to pressure)\n",
    "\n",
    "Use the code below to do the conversion for garnet:"
   ]
  },
  {
   "cell_type": "code",
   "execution_count": null,
   "metadata": {},
   "outputs": [],
   "source": [
    "\n",
    "act = garnet.activity(\n",
    "            500 + 273.15, # Temperature (K)\n",
    "            10000, # Pressure (bar)\n",
    "            mol = np.array([\n",
    "                0.3, # Almandine\n",
    "                0.2, # Grossular\n",
    "                0.5 # Pyrope\n",
    "                ])\n",
    "        )\n",
    "\n",
    "enames = garnet.endmember_names\n",
    "\n",
    "print(\"Activities of endmembers:\")\n",
    "\n",
    "for i in range(3):\n",
    "    print(\"{0: <10}: {1:.4f} \".format(enames[i], act[0][i]))\n"
   ]
  },
  {
   "cell_type": "markdown",
   "metadata": {},
   "source": [
    "And for the feldspar:"
   ]
  },
  {
   "cell_type": "code",
   "execution_count": null,
   "metadata": {},
   "outputs": [],
   "source": [
    "act = feldspar.activity(\n",
    "            500 + 273.15, # Temperature (K)\n",
    "            10000, # Pressure (bar)\n",
    "            mol = np.array([\n",
    "                0.3, # Albite\n",
    "                0.69, # Anorthite\n",
    "                0.01 # K-spar (sanidine)\n",
    "                ])\n",
    "        )\n",
    "\n",
    "enames = feldspar.endmember_names\n",
    "\n",
    "print(\"Activities of endmembers:\")\n",
    "\n",
    "for i in range(3):\n",
    "    print(\"{0: <10}: {1:.4f} \".format(enames[i], act[0][i]))"
   ]
  },
  {
   "cell_type": "markdown",
   "metadata": {},
   "source": [
    "Now replace the K contour values with the equilibrium constants you have calculated:"
   ]
  },
  {
   "cell_type": "code",
   "execution_count": null,
   "metadata": {},
   "outputs": [],
   "source": [
    "# Tell the code which values of K to plot lines for:\n",
    "K_contours = [ 0.001, 0.01, 0.1, 1, 10, 100, 1000]\n",
    "\n",
    "f, a = plt.subplots()\n",
    "\n",
    "\n",
    "cs = a.contour(tt - 273.15, pp / 1000, K_grid, levels=K_contours, colors='k',)\n",
    "\n",
    "a.clabel(cs, fmt=\"K = %.3f\")\n",
    "\n",
    "a.axvline(500, c='r')\n",
    "\n",
    "\n",
    "a.set_xlabel('Temperature (˚C)')\n",
    "a.set_ylabel('Pressure (kbar)')\n",
    "\n",
    "\n",
    "plt.show()"
   ]
  },
  {
   "cell_type": "markdown",
   "metadata": {},
   "source": [
    "You should have found that the cores equilibrated at a higher pressure than the rims- it looks like the garnet grew as the rock reached its peak metamorphic conditions and has started to decompresss.\n"
   ]
  },
  {
   "cell_type": "code",
   "execution_count": null,
   "metadata": {},
   "outputs": [],
   "source": []
  }
 ],
 "metadata": {
  "kernelspec": {
   "display_name": "base",
   "language": "python",
   "name": "python3"
  },
  "language_info": {
   "codemirror_mode": {
    "name": "ipython",
    "version": 3
   },
   "file_extension": ".py",
   "mimetype": "text/x-python",
   "name": "python",
   "nbconvert_exporter": "python",
   "pygments_lexer": "ipython3",
   "version": "3.9.13"
  }
 },
 "nbformat": 4,
 "nbformat_minor": 2
}

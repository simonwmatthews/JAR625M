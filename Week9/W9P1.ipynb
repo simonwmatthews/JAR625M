{
 "cells": [
  {
   "cell_type": "markdown",
   "metadata": {},
   "source": [
    "# JAR625M - Week 9 - Practical 1\n",
    "\n",
    "*Simon Matthews (simonm@hi.is)*"
   ]
  },
  {
   "cell_type": "markdown",
   "metadata": {},
   "source": [
    "Import the required packages, including the main calculation tool that we will use: `pyDEW`\n",
    "\n",
    "The `pyDEW` software implements the Deep Earth Water (DEW) model (e.g., Sverjensky, 2019) in python. The DEW model calculates the composition of fluids under crustal and mantle conditions."
   ]
  },
  {
   "cell_type": "code",
   "execution_count": null,
   "metadata": {},
   "outputs": [],
   "source": [
    "import pyDEW\n",
    "from pyDEW import defaultsystem\n",
    "import numpy as np\n",
    "import pandas as pd"
   ]
  },
  {
   "cell_type": "markdown",
   "metadata": {},
   "source": [
    "Define some useful functions for doing the calculations and giving results in a format that you can easily use for the calculations. You need to run this cell, but you can skip past what this code does if you want."
   ]
  },
  {
   "cell_type": "code",
   "execution_count": null,
   "metadata": {},
   "outputs": [],
   "source": [
    "atm_wt = np.array([0.0, \n",
    "                   1.008, 0.0, 0.0, 0.0, 0.0, \n",
    "                   0.0, 0.0, 15.999, 0.0, 0.0, \n",
    "                   22.99, 24.305, 26.982, 28.085, 0.0,\n",
    "                   0.0, 35.45, 0.0, 39.098, 40.078,\n",
    "                   0.0, 0.0, 0.0, 0.0, 0.0, 55.845,])\n",
    "\n",
    "def run_reaction(fluid, T, P, bulk_composition, zimax):\n",
    "    reaction = pyDEW.Reaction(fluid, T, P, \n",
    "                              bulk_composition=bulk_composition,\n",
    "                              bulk_composition_units='wtpt_oxides',\n",
    "                              mols_bulk_composition=zimax,\n",
    "                              zimax=zimax)\n",
    "    return reaction\n",
    "\n",
    "def run_model(T, P, bulk_composition):\n",
    "    # Get the default chemical system for pyDEW\n",
    "    # This defines the minerals, and fluid properties\n",
    "    # for the calculation.\n",
    "    system = pyDEW.System()\n",
    "\n",
    "    # Before running an equilibrium calculation we must\n",
    "    # create a fluid that contains all the elements we\n",
    "    # are interested in, in dilute quantities:\n",
    "    molalities = {\n",
    "        'H4SIO4(AQ)':0.01,\n",
    "        'AL+3':0.01,\n",
    "        'FE+2':0.01,\n",
    "        'MG+2': 0.01,\n",
    "        'CA+2': 0.01,\n",
    "        'NA+': 0.01,\n",
    "        'K+': 0.01,\n",
    "        'CL-':0.01,\n",
    "        }\n",
    "    \n",
    "    # Create this dilute fluid:\n",
    "    fluid = pyDEW.Fluid(system, T=T, P=P, molalities=molalities, uacion='CL-')\n",
    "    print(\"Successfully created a fluid...\")\n",
    "\n",
    "    # Now run the equilibration calculation. This proceeds by\n",
    "    # reacting the bulk composition defined with the fluid. Sometimes\n",
    "    # it crashes if you ask it to do too many reaction steps, which\n",
    "    # I have tried to catch with the try, except blocks\n",
    "    try:\n",
    "        print(\"Attempting equilibrium calculation for zimax=300...\")\n",
    "        reaction = run_reaction(fluid, T, P, bulk_composition, 300)\n",
    "    except Exception:\n",
    "        print(\"zimax=300 did not work, trying zimax=200...\\n\")\n",
    "        try:\n",
    "            reaction = run_reaction(fluid, T, P, bulk_composition, 200)\n",
    "        except Exception:\n",
    "            print(\"zimax=200 did not work, trying zimax=100...\\n\")\n",
    "            try:\n",
    "                reaction = run_reaction(fluid, T, P, bulk_composition, 100)\n",
    "            except Exception:\n",
    "                assert False, \"The calculation is not working under these \"\\\n",
    "                              \"conditions. Try adjusting the pressure and \"\\\n",
    "                              \"temperature a bit, or move to the next point.\"\n",
    "    \n",
    "    return reaction\n",
    "            \n",
    "def calculate_assemblage(T, P, bulk_composition):\n",
    "\n",
    "    print(f\"Starting calculation at {T:.0f}˚C and {P/1000:.1f} kbar...\")\n",
    "\n",
    "    # Convert degC to K\n",
    "    T += 273.15\n",
    "\n",
    "    # Import the table of mineral formulae\n",
    "    mineral_formulae = pd.read_csv('mineral_parameters.csv')\n",
    "\n",
    "    # Run the calculation\n",
    "    reaction = run_model(T, P, bulk_composition)\n",
    "\n",
    "    # Extract mineral information\n",
    "    minerals = reaction.minerals.iloc[-1][~np.isnan(reaction.minerals.iloc[-1])].to_dict()\n",
    "    solidsolutions = reaction.solid_solutions.iloc[-1].to_dict()\n",
    "\n",
    "    totmoles = 0.0\n",
    "    for mineral_name in minerals:\n",
    "        totmoles += 10**minerals[mineral_name]\n",
    "    \n",
    "    print(\"\")\n",
    "    print(f\"{f'Mineral' : <20} Mole Fraction   Molar Mass       Formula\")\n",
    "    print(\"=\"*85)\n",
    "    for mineral_name in minerals:\n",
    "        moles = 10**(minerals[mineral_name]) \n",
    "        \n",
    "        if mineral_name[-4:] != '(SS)':\n",
    "            formula = mineral_formulae[mineral_formulae.name==mineral_name].formula.iloc[0]\n",
    "            molar_mass = np.sum(pyDEW.phase_models.get_mineral(mineral_name).element_comp[:27] * atm_wt)\n",
    "\n",
    "            print(f\"{f'{mineral_name}' : <24} {f'{moles/totmoles:.3f}' : <5}         {f'{molar_mass:.2f}' : <8}       {formula}\")\n",
    "        else:\n",
    "            print(f\"{f'{mineral_name}' : <24} {f'{moles/totmoles:.3f}' : <5}\")\n",
    "            print(\"-\"*85)\n",
    "            endmembers = defaultsystem.solid_solutions[mineral_name]\n",
    "            for endmember_name in endmembers:\n",
    "                emx = solidsolutions[endmember_name]\n",
    "                formula = mineral_formulae[mineral_formulae.name==endmember_name].formula.iloc[0]\n",
    "                molar_mass = np.sum(pyDEW.phase_models.get_mineral(endmember_name).element_comp[:27] * atm_wt)\n",
    "                print(f\"    {f'{endmember_name}' : <20} {f'{emx:.3f}' : <5}         {f'{molar_mass:.2f}' : <8}       {formula}\")\n",
    "        print(\"\")\n",
    "    \n",
    "    print(\"\")\n",
    "    print(\"The Aqueous Species in the Fluid\")\n",
    "    print(\"\")\n",
    "    print(\"Species          Molality (mol/kg of H2O solvent)\")\n",
    "    print(\"=\"*45)\n",
    "    species = reaction.species_concs.iloc[-2]\n",
    "    print(10**species[species>-6])\n"
   ]
  },
  {
   "cell_type": "markdown",
   "metadata": {},
   "source": [
    "## Calculations\n",
    "\n",
    "First, set the bulk composition. This bulk composition is a typical mid-ocean ridge basalt."
   ]
  },
  {
   "cell_type": "code",
   "execution_count": 56,
   "metadata": {},
   "outputs": [],
   "source": [
    "# The units here are weight percent (wt%)\n",
    "bulk_composition = {'SiO2': 47.4, \n",
    "                    'Al2O3': 17.64, \n",
    "                    'FeO': 7.98, \n",
    "                    'MgO': 7.63, \n",
    "                    'CaO': 12.44, \n",
    "                    'K2O': 0.03, \n",
    "                    'Na2O': 2.65, \n",
    "                    }"
   ]
  },
  {
   "cell_type": "markdown",
   "metadata": {},
   "source": [
    "Now you can run a calculation at the temperature and pressure you are interested in. It should print out a results table."
   ]
  },
  {
   "cell_type": "code",
   "execution_count": 57,
   "metadata": {},
   "outputs": [
    {
     "name": "stdout",
     "output_type": "stream",
     "text": [
      "Starting calculation at 100˚C and 5.0 kbar...\n",
      "Successfully created a fluid...\n",
      "Attempting equilibrium calculation for zimax=1000...\n",
      "\n",
      "Mineral              Mole Fraction   Molar Mass       Formula\n",
      "=====================================================================================\n",
      "CHLORITE(SS)             0.320\n",
      "-------------------------------------------------------------------------------------\n",
      "    CLINOCHLORE          0.811         111.16         Mg(1)Al(0.4)Si(0.6)O(3.6)H(1.6)\n",
      "    CHAMOSITE            0.189         142.70         Fe(1)Al(0.4)Si(0.6)O(3.6)H(1.6)\n",
      "\n",
      "CPX_SUBCALCIC(SS)        0.379\n",
      "-------------------------------------------------------------------------------------\n",
      "    DIOPSIDE             0.235         216.55         Mg(1)Ca(1)Si(2)O(6)\n",
      "    HEDENBERGITE         0.380         248.09         Ca(1)Fe(1)Si(2)O(6)\n",
      "    ENSTATITE_CL         0.000         200.77         Mg(2)Si(2)O(6)\n",
      "    JADEITE              0.384         202.14         Na(1)Al(1)Si(2)O(6)\n",
      "\n",
      "HEMATITE                 0.000         159.69         Fe(2)O(3)\n",
      "\n",
      "KFELDSPAR(SS)            0.013\n",
      "-------------------------------------------------------------------------------------\n",
      "    KFELDSPAR            0.108         278.33         K(1)Al(1)Si(3)O(8)\n",
      "    ALBITE               0.892         262.22         Na(1)Al(1)Si(3)O(8)\n",
      "\n",
      "LAWSONITE                0.175         314.23         Ca(1)Al(2)Si(2)O(10)H(4)\n",
      "\n",
      "QUARTZ_ALPHA             0.113         60.08          Si(1)O(2)\n",
      "\n",
      "\n",
      "The Aqueous Species in the Fluid\n",
      "\n",
      "Species          Molality (mol/kg of H2O solvent)\n",
      "=============================================\n",
      "CA+2             0.000094\n",
      "H4SIO4(AQ)       0.001082\n",
      "CL-              0.019063\n",
      "K+               0.000092\n",
      "NA+              0.027249\n",
      "AL(OH)4-         0.000001\n",
      "AL(OH)SI(OH)-    0.000003\n",
      "CA(H3SIO4)+      0.000001\n",
      "CA(OH)+          0.000002\n",
      "H3SIO4-          0.003780\n",
      "NACL(AQ)         0.000058\n",
      "NAOH(AQ)         0.000041\n",
      "OH-              0.004686\n",
      "H6SI2O7(AQ)      0.000015\n",
      "Name: 2.55, dtype: float64\n"
     ]
    }
   ],
   "source": [
    "calculate_assemblage(100.0, # Temperature in ˚C\n",
    "                     5000.0, # Pressure in bar\n",
    "                     bulk_composition)"
   ]
  },
  {
   "cell_type": "code",
   "execution_count": null,
   "metadata": {},
   "outputs": [],
   "source": []
  }
 ],
 "metadata": {
  "kernelspec": {
   "display_name": "base",
   "language": "python",
   "name": "python3"
  },
  "language_info": {
   "codemirror_mode": {
    "name": "ipython",
    "version": 3
   },
   "file_extension": ".py",
   "mimetype": "text/x-python",
   "name": "python",
   "nbconvert_exporter": "python",
   "pygments_lexer": "ipython3",
   "version": "3.10.11"
  }
 },
 "nbformat": 4,
 "nbformat_minor": 2
}
